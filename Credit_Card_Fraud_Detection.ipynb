{
  "nbformat": 4,
  "nbformat_minor": 0,
  "metadata": {
    "colab": {
      "name": "Credit_Card_Fraud_Detection.ipynb",
      "version": "0.3.2",
      "provenance": [],
      "collapsed_sections": [],
      "include_colab_link": true
    },
    "kernelspec": {
      "name": "python3",
      "display_name": "Python 3"
    }
  },
  "cells": [
    {
      "cell_type": "markdown",
      "metadata": {
        "id": "view-in-github",
        "colab_type": "text"
      },
      "source": [
        "<a href=\"https://colab.research.google.com/github/JayThibs/Credit_Card_Fraud_Detection/blob/master/Credit_Card_Fraud_Detection.ipynb\" target=\"_parent\"><img src=\"https://colab.research.google.com/assets/colab-badge.svg\" alt=\"Open In Colab\"/></a>"
      ]
    },
    {
      "cell_type": "markdown",
      "metadata": {
        "id": "y1_dVLhNN7_Y",
        "colab_type": "text"
      },
      "source": [
        "TO DO\n",
        "\n",
        "\n",
        "*   Create new visualization in exploration\n",
        "*   Try out different models and test sizes\n",
        "*   Use all visualizations to test model (cost function, etc.)\n",
        "*   Make sure the data always outputs the same thing.\n"
      ]
    },
    {
      "cell_type": "markdown",
      "metadata": {
        "id": "FS8IG1e4j4zH",
        "colab_type": "text"
      },
      "source": [
        "# Introduction"
      ]
    },
    {
      "cell_type": "markdown",
      "metadata": {
        "id": "vaXv3H2aj98e",
        "colab_type": "text"
      },
      "source": [
        "---\n",
        "\n",
        "We will be build a credit card fraud detection model. The goals of this notebook are the following:\n",
        "\n",
        "\n",
        "\n",
        "*   Show how to create a fraud detection system\n",
        "*   Explain how to deal with imbalanced datasets\n",
        "*   Use a wide variety of models to get a better understanding of which ones work better\n",
        "*   Use Semi-Supervised Classification\n",
        "\n",
        "---\n"
      ]
    },
    {
      "cell_type": "markdown",
      "metadata": {
        "id": "sd7oYpw-D5DK",
        "colab_type": "text"
      },
      "source": [
        "Table of Contents\n",
        "\n",
        "I. Understanding Our Data\n",
        "1. Gather Sense of our Data\n",
        "\n",
        "II. Preprocessing\n",
        "1. Scaling and Distributing\n",
        "2. Splitting the Data\n",
        "\n",
        "III. Random Undersampling and Oversampling\n",
        "1. Distributing and Correlation\n",
        "2. Anomaly Detection\n",
        "3. Dimensionality Reduction and Clustering (t-SNE)\n",
        "4. Classifiers\n",
        "5. A Deeper Look into Logistic Regression\n",
        "6. Oversampling with SMOTE\n",
        "\n",
        "IV. Testing\n",
        "1. Testing with Logistic Regression\n",
        "2. Neural Networks Testing (Undersamping vs Oversamping)"
      ]
    },
    {
      "cell_type": "markdown",
      "metadata": {
        "colab_type": "text",
        "id": "VmwQAlZ3DquS"
      },
      "source": [
        "# Problem Statement:\n",
        "\n",
        "Credit card fraud is a problem where some of the credit card transactions turn out to be fraud. Credit card companies would like to reduce the risks of fraud in order to reduce the costs associated. Our model's aim is to try to eliminate fraudulent transactions."
      ]
    },
    {
      "cell_type": "markdown",
      "metadata": {
        "colab_type": "text",
        "id": "J4sgWuBdDrBZ"
      },
      "source": [
        "# Importing Libraries"
      ]
    },
    {
      "cell_type": "code",
      "metadata": {
        "colab_type": "code",
        "id": "ge_pVBn10IiT",
        "colab": {}
      },
      "source": [
        "# Import Libraries\n",
        "\n",
        "import numpy as np\n",
        "import pandas as pd\n",
        "import sklearn as sk\n",
        "import matplotlib.pyplot as plt\n",
        "import matplotlib.patches as mpatches\n",
        "import seaborn as sns\n",
        "sns.set(style=\"whitegrid\")\n",
        "import random\n",
        "import tensorflow as tf\n",
        "from sklearn.preprocessing import scale\n",
        "from sklearn.manifold import TSNE\n",
        "from sklearn.decomposition import PCA, TruncatedSVD\n",
        "from sklearn.utils import shuffle\n",
        "from pylab import rcParams\n",
        "rcParams['figure.figsize'] = 14, 8\n",
        "RANDOM_SEED = 42\n",
        "LABELS = [\"Normal\", \"Fraud\"]\n",
        "import plotly\n",
        "import time\n",
        "\n",
        "# Classifier Libraries \n",
        "from sklearn.linear_model import LogisticRegression\n",
        "from sklearn.svm import SVC\n",
        "from sklearn.neighbors import KNeighborsClassifier\n",
        "from sklearn.ensemble import RandomForestClassifier\n",
        "\n",
        "import collections\n",
        "\n",
        "# Other Libraries\n",
        "from sklearn.model_selection import train_test_split\n",
        "from sklearn.model_selection import StratifiedShuffleSplit\n",
        "from sklearn.pipeline import make_pipeline\n",
        "from imblearn.pipeline import make_pipeline as imbalanced_make_pipeline\n",
        "from imblearn.over_sampling import SMOTE\n",
        "from imblearn.under_sampling import NearMiss\n",
        "from imblearn.metrics import classification_report_imbalanced\n",
        "from sklearn.metrics import precision_score, recall_score, f1_score, roc_auc_score, accuracy_score, classification_report\n",
        "from collections import Counter\n",
        "from sklearn.model_selection import KFold, StratifiedKFold\n",
        "import warnings\n",
        "warnings.filterwarnings(\"ignore\")"
      ],
      "execution_count": 0,
      "outputs": []
    },
    {
      "cell_type": "markdown",
      "metadata": {
        "id": "SS3jB3P4I6bP",
        "colab_type": "text"
      },
      "source": [
        "# Data Exploration"
      ]
    },
    {
      "cell_type": "markdown",
      "metadata": {
        "id": "bzJnIPQduGUU",
        "colab_type": "text"
      },
      "source": [
        "Let's load the data and check it out."
      ]
    },
    {
      "cell_type": "code",
      "metadata": {
        "id": "HF4EQl3BCwLj",
        "colab_type": "code",
        "colab": {
          "base_uri": "https://localhost:8080/",
          "height": 224
        },
        "outputId": "90a9fa3c-c559-40eb-b074-ee8fdaaf1c4c"
      },
      "source": [
        "df = pd.read_csv('/content/creditcard 2.csv', low_memory=False) # import file\n",
        "df = df.sample(frac=1).reset_index(drop=True)\n",
        "df.head()"
      ],
      "execution_count": 62,
      "outputs": [
        {
          "output_type": "execute_result",
          "data": {
            "text/html": [
              "<div>\n",
              "<style scoped>\n",
              "    .dataframe tbody tr th:only-of-type {\n",
              "        vertical-align: middle;\n",
              "    }\n",
              "\n",
              "    .dataframe tbody tr th {\n",
              "        vertical-align: top;\n",
              "    }\n",
              "\n",
              "    .dataframe thead th {\n",
              "        text-align: right;\n",
              "    }\n",
              "</style>\n",
              "<table border=\"1\" class=\"dataframe\">\n",
              "  <thead>\n",
              "    <tr style=\"text-align: right;\">\n",
              "      <th></th>\n",
              "      <th>Time</th>\n",
              "      <th>V1</th>\n",
              "      <th>V2</th>\n",
              "      <th>V3</th>\n",
              "      <th>V4</th>\n",
              "      <th>V5</th>\n",
              "      <th>V6</th>\n",
              "      <th>V7</th>\n",
              "      <th>V8</th>\n",
              "      <th>V9</th>\n",
              "      <th>V10</th>\n",
              "      <th>V11</th>\n",
              "      <th>V12</th>\n",
              "      <th>V13</th>\n",
              "      <th>V14</th>\n",
              "      <th>V15</th>\n",
              "      <th>V16</th>\n",
              "      <th>V17</th>\n",
              "      <th>V18</th>\n",
              "      <th>V19</th>\n",
              "      <th>V20</th>\n",
              "      <th>V21</th>\n",
              "      <th>V22</th>\n",
              "      <th>V23</th>\n",
              "      <th>V24</th>\n",
              "      <th>V25</th>\n",
              "      <th>V26</th>\n",
              "      <th>V27</th>\n",
              "      <th>V28</th>\n",
              "      <th>Amount</th>\n",
              "      <th>Class</th>\n",
              "    </tr>\n",
              "  </thead>\n",
              "  <tbody>\n",
              "    <tr>\n",
              "      <th>0</th>\n",
              "      <td>37583.0</td>\n",
              "      <td>-1.314256</td>\n",
              "      <td>1.232848</td>\n",
              "      <td>0.439415</td>\n",
              "      <td>-0.153291</td>\n",
              "      <td>0.131422</td>\n",
              "      <td>-0.420521</td>\n",
              "      <td>0.449248</td>\n",
              "      <td>0.488157</td>\n",
              "      <td>-0.663966</td>\n",
              "      <td>0.098641</td>\n",
              "      <td>1.259243</td>\n",
              "      <td>0.714258</td>\n",
              "      <td>-0.297936</td>\n",
              "      <td>0.775517</td>\n",
              "      <td>0.094951</td>\n",
              "      <td>-0.111714</td>\n",
              "      <td>-0.109018</td>\n",
              "      <td>-0.210667</td>\n",
              "      <td>-0.067357</td>\n",
              "      <td>-0.009202</td>\n",
              "      <td>0.102941</td>\n",
              "      <td>0.379334</td>\n",
              "      <td>0.090216</td>\n",
              "      <td>0.048226</td>\n",
              "      <td>-0.274115</td>\n",
              "      <td>0.285247</td>\n",
              "      <td>0.220490</td>\n",
              "      <td>0.193462</td>\n",
              "      <td>20.38</td>\n",
              "      <td>0</td>\n",
              "    </tr>\n",
              "    <tr>\n",
              "      <th>1</th>\n",
              "      <td>168409.0</td>\n",
              "      <td>2.076798</td>\n",
              "      <td>-1.015359</td>\n",
              "      <td>-0.658085</td>\n",
              "      <td>-0.851485</td>\n",
              "      <td>-1.042400</td>\n",
              "      <td>-0.663592</td>\n",
              "      <td>-0.852071</td>\n",
              "      <td>-0.057982</td>\n",
              "      <td>-0.271030</td>\n",
              "      <td>0.911709</td>\n",
              "      <td>0.994188</td>\n",
              "      <td>0.131339</td>\n",
              "      <td>-0.215017</td>\n",
              "      <td>-0.081123</td>\n",
              "      <td>-0.603749</td>\n",
              "      <td>1.128603</td>\n",
              "      <td>0.068181</td>\n",
              "      <td>-0.981549</td>\n",
              "      <td>0.754528</td>\n",
              "      <td>-0.009859</td>\n",
              "      <td>0.275879</td>\n",
              "      <td>0.772911</td>\n",
              "      <td>0.162928</td>\n",
              "      <td>0.035481</td>\n",
              "      <td>-0.215053</td>\n",
              "      <td>-0.200438</td>\n",
              "      <td>-0.010667</td>\n",
              "      <td>-0.058151</td>\n",
              "      <td>35.00</td>\n",
              "      <td>0</td>\n",
              "    </tr>\n",
              "    <tr>\n",
              "      <th>2</th>\n",
              "      <td>64756.0</td>\n",
              "      <td>1.424885</td>\n",
              "      <td>-0.951433</td>\n",
              "      <td>-0.027739</td>\n",
              "      <td>-1.576531</td>\n",
              "      <td>-0.853384</td>\n",
              "      <td>-0.252323</td>\n",
              "      <td>-0.686621</td>\n",
              "      <td>-0.066581</td>\n",
              "      <td>-2.426221</td>\n",
              "      <td>1.543034</td>\n",
              "      <td>1.322111</td>\n",
              "      <td>0.062635</td>\n",
              "      <td>0.750244</td>\n",
              "      <td>0.044659</td>\n",
              "      <td>-0.099349</td>\n",
              "      <td>-0.582613</td>\n",
              "      <td>0.507913</td>\n",
              "      <td>-0.462617</td>\n",
              "      <td>0.078964</td>\n",
              "      <td>-0.271224</td>\n",
              "      <td>-0.489787</td>\n",
              "      <td>-1.125113</td>\n",
              "      <td>0.161595</td>\n",
              "      <td>-0.359214</td>\n",
              "      <td>0.176482</td>\n",
              "      <td>-0.503196</td>\n",
              "      <td>0.019469</td>\n",
              "      <td>0.007971</td>\n",
              "      <td>40.00</td>\n",
              "      <td>0</td>\n",
              "    </tr>\n",
              "    <tr>\n",
              "      <th>3</th>\n",
              "      <td>149365.0</td>\n",
              "      <td>-1.420164</td>\n",
              "      <td>1.238254</td>\n",
              "      <td>1.584688</td>\n",
              "      <td>-0.664644</td>\n",
              "      <td>0.208996</td>\n",
              "      <td>0.076848</td>\n",
              "      <td>0.526081</td>\n",
              "      <td>0.065171</td>\n",
              "      <td>0.461025</td>\n",
              "      <td>-0.137773</td>\n",
              "      <td>-0.726298</td>\n",
              "      <td>0.686780</td>\n",
              "      <td>1.404897</td>\n",
              "      <td>-0.618266</td>\n",
              "      <td>0.648682</td>\n",
              "      <td>-0.089863</td>\n",
              "      <td>-0.534221</td>\n",
              "      <td>-0.124802</td>\n",
              "      <td>0.411794</td>\n",
              "      <td>0.390059</td>\n",
              "      <td>-0.302569</td>\n",
              "      <td>-0.499704</td>\n",
              "      <td>-0.285421</td>\n",
              "      <td>0.663990</td>\n",
              "      <td>0.530841</td>\n",
              "      <td>-0.432112</td>\n",
              "      <td>0.450343</td>\n",
              "      <td>0.267157</td>\n",
              "      <td>34.99</td>\n",
              "      <td>0</td>\n",
              "    </tr>\n",
              "    <tr>\n",
              "      <th>4</th>\n",
              "      <td>126552.0</td>\n",
              "      <td>-0.866200</td>\n",
              "      <td>-0.558334</td>\n",
              "      <td>-0.449235</td>\n",
              "      <td>0.698437</td>\n",
              "      <td>-1.382256</td>\n",
              "      <td>1.418042</td>\n",
              "      <td>1.014842</td>\n",
              "      <td>0.693183</td>\n",
              "      <td>0.621554</td>\n",
              "      <td>-1.585489</td>\n",
              "      <td>-1.951601</td>\n",
              "      <td>-0.941032</td>\n",
              "      <td>-0.555787</td>\n",
              "      <td>-1.253962</td>\n",
              "      <td>0.658227</td>\n",
              "      <td>1.642195</td>\n",
              "      <td>-0.163236</td>\n",
              "      <td>1.857989</td>\n",
              "      <td>-1.175765</td>\n",
              "      <td>0.753196</td>\n",
              "      <td>0.576960</td>\n",
              "      <td>0.766940</td>\n",
              "      <td>1.222882</td>\n",
              "      <td>-0.306378</td>\n",
              "      <td>-0.783832</td>\n",
              "      <td>-0.748283</td>\n",
              "      <td>-0.051507</td>\n",
              "      <td>0.134554</td>\n",
              "      <td>498.20</td>\n",
              "      <td>0</td>\n",
              "    </tr>\n",
              "  </tbody>\n",
              "</table>\n",
              "</div>"
            ],
            "text/plain": [
              "       Time        V1        V2        V3  ...       V27       V28  Amount  Class\n",
              "0   37583.0 -1.314256  1.232848  0.439415  ...  0.220490  0.193462   20.38      0\n",
              "1  168409.0  2.076798 -1.015359 -0.658085  ... -0.010667 -0.058151   35.00      0\n",
              "2   64756.0  1.424885 -0.951433 -0.027739  ...  0.019469  0.007971   40.00      0\n",
              "3  149365.0 -1.420164  1.238254  1.584688  ...  0.450343  0.267157   34.99      0\n",
              "4  126552.0 -0.866200 -0.558334 -0.449235  ... -0.051507  0.134554  498.20      0\n",
              "\n",
              "[5 rows x 31 columns]"
            ]
          },
          "metadata": {
            "tags": []
          },
          "execution_count": 62
        }
      ]
    },
    {
      "cell_type": "markdown",
      "metadata": {
        "id": "0Csyhg77uRYr",
        "colab_type": "text"
      },
      "source": [
        "The features are already scaled and the names of features are not shown due to privacy reasons.\n",
        "\n",
        "Now, let's have a look at how many of the transactions are fraudulent."
      ]
    },
    {
      "cell_type": "code",
      "metadata": {
        "id": "TkidzHk9E6zU",
        "colab_type": "code",
        "colab": {
          "base_uri": "https://localhost:8080/",
          "height": 51
        },
        "outputId": "e0e6eb86-b7f3-4064-d391-92871175f7f0"
      },
      "source": [
        "# loc locates all data by column or conditional statement\n",
        "frauds = df.loc[df['Class'] == 1] # find all rows that are fraudulent\n",
        "non_frauds = df.loc[df['Class'] == 0] # final all rows that aren't fraudulent\n",
        "print('Frauds ', len(frauds), ' transactions or ', round(df['Class'].value_counts()[0]/len(df)*100, 2), '% of the dataset')\n",
        "print('No Fraud ', len(non_frauds), ' transactions or ', round(df['Class'].value_counts()[1]/len(df)*100, 2), '% of the dataset')"
      ],
      "execution_count": 63,
      "outputs": [
        {
          "output_type": "stream",
          "text": [
            "Frauds  492  transactions or  99.83 % of the dataset\n",
            "No Fraud  284315  transactions or  0.17 % of the dataset\n"
          ],
          "name": "stdout"
        }
      ]
    },
    {
      "cell_type": "markdown",
      "metadata": {
        "id": "ZsbS734fvNNH",
        "colab_type": "text"
      },
      "source": [
        "Only 492 of the transactions are fraudulent. This means that the dataset is quite imbalanced; 99.83% of transactions are normal. The cases of fraud are anomalies and therefore our model will be doing anomaly detection to find out which transactions are fraudulent.\n",
        "\n",
        "We do not want to use this dataframe as the base for our predictive models and analysis because we will get a lot of errors and our model will overfit since it will assume that most transactions are not fraud. This will require us to modify the dataframe quite a bit later on so that we can create a model that will properly predict (patterns of) fraud.\n",
        "\n",
        "Let's have a look at some of the statistics regarding the dataset."
      ]
    },
    {
      "cell_type": "code",
      "metadata": {
        "id": "LB-soiM6EWzi",
        "colab_type": "code",
        "colab": {
          "base_uri": "https://localhost:8080/",
          "height": 317
        },
        "outputId": "2cb5111f-1244-41a2-e818-847e2aad1015"
      },
      "source": [
        "df.describe()"
      ],
      "execution_count": 64,
      "outputs": [
        {
          "output_type": "execute_result",
          "data": {
            "text/html": [
              "<div>\n",
              "<style scoped>\n",
              "    .dataframe tbody tr th:only-of-type {\n",
              "        vertical-align: middle;\n",
              "    }\n",
              "\n",
              "    .dataframe tbody tr th {\n",
              "        vertical-align: top;\n",
              "    }\n",
              "\n",
              "    .dataframe thead th {\n",
              "        text-align: right;\n",
              "    }\n",
              "</style>\n",
              "<table border=\"1\" class=\"dataframe\">\n",
              "  <thead>\n",
              "    <tr style=\"text-align: right;\">\n",
              "      <th></th>\n",
              "      <th>Time</th>\n",
              "      <th>V1</th>\n",
              "      <th>V2</th>\n",
              "      <th>V3</th>\n",
              "      <th>V4</th>\n",
              "      <th>V5</th>\n",
              "      <th>V6</th>\n",
              "      <th>V7</th>\n",
              "      <th>V8</th>\n",
              "      <th>V9</th>\n",
              "      <th>V10</th>\n",
              "      <th>V11</th>\n",
              "      <th>V12</th>\n",
              "      <th>V13</th>\n",
              "      <th>V14</th>\n",
              "      <th>V15</th>\n",
              "      <th>V16</th>\n",
              "      <th>V17</th>\n",
              "      <th>V18</th>\n",
              "      <th>V19</th>\n",
              "      <th>V20</th>\n",
              "      <th>V21</th>\n",
              "      <th>V22</th>\n",
              "      <th>V23</th>\n",
              "      <th>V24</th>\n",
              "      <th>V25</th>\n",
              "      <th>V26</th>\n",
              "      <th>V27</th>\n",
              "      <th>V28</th>\n",
              "      <th>Amount</th>\n",
              "      <th>Class</th>\n",
              "    </tr>\n",
              "  </thead>\n",
              "  <tbody>\n",
              "    <tr>\n",
              "      <th>count</th>\n",
              "      <td>284807.000000</td>\n",
              "      <td>2.848070e+05</td>\n",
              "      <td>2.848070e+05</td>\n",
              "      <td>2.848070e+05</td>\n",
              "      <td>2.848070e+05</td>\n",
              "      <td>2.848070e+05</td>\n",
              "      <td>2.848070e+05</td>\n",
              "      <td>2.848070e+05</td>\n",
              "      <td>2.848070e+05</td>\n",
              "      <td>2.848070e+05</td>\n",
              "      <td>2.848070e+05</td>\n",
              "      <td>2.848070e+05</td>\n",
              "      <td>2.848070e+05</td>\n",
              "      <td>2.848070e+05</td>\n",
              "      <td>2.848070e+05</td>\n",
              "      <td>2.848070e+05</td>\n",
              "      <td>2.848070e+05</td>\n",
              "      <td>2.848070e+05</td>\n",
              "      <td>2.848070e+05</td>\n",
              "      <td>2.848070e+05</td>\n",
              "      <td>2.848070e+05</td>\n",
              "      <td>2.848070e+05</td>\n",
              "      <td>2.848070e+05</td>\n",
              "      <td>2.848070e+05</td>\n",
              "      <td>2.848070e+05</td>\n",
              "      <td>2.848070e+05</td>\n",
              "      <td>2.848070e+05</td>\n",
              "      <td>2.848070e+05</td>\n",
              "      <td>2.848070e+05</td>\n",
              "      <td>284807.000000</td>\n",
              "      <td>284807.000000</td>\n",
              "    </tr>\n",
              "    <tr>\n",
              "      <th>mean</th>\n",
              "      <td>94813.859575</td>\n",
              "      <td>1.199663e-15</td>\n",
              "      <td>3.365320e-16</td>\n",
              "      <td>-1.400995e-15</td>\n",
              "      <td>2.050628e-15</td>\n",
              "      <td>9.955556e-16</td>\n",
              "      <td>1.518838e-15</td>\n",
              "      <td>-5.917491e-16</td>\n",
              "      <td>1.007869e-16</td>\n",
              "      <td>-2.367983e-15</td>\n",
              "      <td>2.201415e-15</td>\n",
              "      <td>1.696092e-15</td>\n",
              "      <td>-1.214398e-15</td>\n",
              "      <td>8.503725e-16</td>\n",
              "      <td>1.249852e-15</td>\n",
              "      <td>4.896470e-15</td>\n",
              "      <td>1.444946e-15</td>\n",
              "      <td>-3.809070e-16</td>\n",
              "      <td>9.739071e-16</td>\n",
              "      <td>1.024958e-15</td>\n",
              "      <td>6.461481e-16</td>\n",
              "      <td>1.512143e-16</td>\n",
              "      <td>-3.715072e-16</td>\n",
              "      <td>2.663952e-16</td>\n",
              "      <td>4.465129e-15</td>\n",
              "      <td>5.191312e-16</td>\n",
              "      <td>1.679486e-15</td>\n",
              "      <td>-3.783657e-16</td>\n",
              "      <td>-1.264770e-16</td>\n",
              "      <td>88.349619</td>\n",
              "      <td>0.001727</td>\n",
              "    </tr>\n",
              "    <tr>\n",
              "      <th>std</th>\n",
              "      <td>47488.145955</td>\n",
              "      <td>1.958696e+00</td>\n",
              "      <td>1.651309e+00</td>\n",
              "      <td>1.516255e+00</td>\n",
              "      <td>1.415869e+00</td>\n",
              "      <td>1.380247e+00</td>\n",
              "      <td>1.332271e+00</td>\n",
              "      <td>1.237094e+00</td>\n",
              "      <td>1.194353e+00</td>\n",
              "      <td>1.098632e+00</td>\n",
              "      <td>1.088850e+00</td>\n",
              "      <td>1.020713e+00</td>\n",
              "      <td>9.992014e-01</td>\n",
              "      <td>9.952742e-01</td>\n",
              "      <td>9.585956e-01</td>\n",
              "      <td>9.153160e-01</td>\n",
              "      <td>8.762529e-01</td>\n",
              "      <td>8.493371e-01</td>\n",
              "      <td>8.381762e-01</td>\n",
              "      <td>8.140405e-01</td>\n",
              "      <td>7.709250e-01</td>\n",
              "      <td>7.345240e-01</td>\n",
              "      <td>7.257016e-01</td>\n",
              "      <td>6.244603e-01</td>\n",
              "      <td>6.056471e-01</td>\n",
              "      <td>5.212781e-01</td>\n",
              "      <td>4.822270e-01</td>\n",
              "      <td>4.036325e-01</td>\n",
              "      <td>3.300833e-01</td>\n",
              "      <td>250.120109</td>\n",
              "      <td>0.041527</td>\n",
              "    </tr>\n",
              "    <tr>\n",
              "      <th>min</th>\n",
              "      <td>0.000000</td>\n",
              "      <td>-5.640751e+01</td>\n",
              "      <td>-7.271573e+01</td>\n",
              "      <td>-4.832559e+01</td>\n",
              "      <td>-5.683171e+00</td>\n",
              "      <td>-1.137433e+02</td>\n",
              "      <td>-2.616051e+01</td>\n",
              "      <td>-4.355724e+01</td>\n",
              "      <td>-7.321672e+01</td>\n",
              "      <td>-1.343407e+01</td>\n",
              "      <td>-2.458826e+01</td>\n",
              "      <td>-4.797473e+00</td>\n",
              "      <td>-1.868371e+01</td>\n",
              "      <td>-5.791881e+00</td>\n",
              "      <td>-1.921433e+01</td>\n",
              "      <td>-4.498945e+00</td>\n",
              "      <td>-1.412985e+01</td>\n",
              "      <td>-2.516280e+01</td>\n",
              "      <td>-9.498746e+00</td>\n",
              "      <td>-7.213527e+00</td>\n",
              "      <td>-5.449772e+01</td>\n",
              "      <td>-3.483038e+01</td>\n",
              "      <td>-1.093314e+01</td>\n",
              "      <td>-4.480774e+01</td>\n",
              "      <td>-2.836627e+00</td>\n",
              "      <td>-1.029540e+01</td>\n",
              "      <td>-2.604551e+00</td>\n",
              "      <td>-2.256568e+01</td>\n",
              "      <td>-1.543008e+01</td>\n",
              "      <td>0.000000</td>\n",
              "      <td>0.000000</td>\n",
              "    </tr>\n",
              "    <tr>\n",
              "      <th>25%</th>\n",
              "      <td>54201.500000</td>\n",
              "      <td>-9.203734e-01</td>\n",
              "      <td>-5.985499e-01</td>\n",
              "      <td>-8.903648e-01</td>\n",
              "      <td>-8.486401e-01</td>\n",
              "      <td>-6.915971e-01</td>\n",
              "      <td>-7.682956e-01</td>\n",
              "      <td>-5.540759e-01</td>\n",
              "      <td>-2.086297e-01</td>\n",
              "      <td>-6.430976e-01</td>\n",
              "      <td>-5.354257e-01</td>\n",
              "      <td>-7.624942e-01</td>\n",
              "      <td>-4.055715e-01</td>\n",
              "      <td>-6.485393e-01</td>\n",
              "      <td>-4.255740e-01</td>\n",
              "      <td>-5.828843e-01</td>\n",
              "      <td>-4.680368e-01</td>\n",
              "      <td>-4.837483e-01</td>\n",
              "      <td>-4.988498e-01</td>\n",
              "      <td>-4.562989e-01</td>\n",
              "      <td>-2.117214e-01</td>\n",
              "      <td>-2.283949e-01</td>\n",
              "      <td>-5.423504e-01</td>\n",
              "      <td>-1.618463e-01</td>\n",
              "      <td>-3.545861e-01</td>\n",
              "      <td>-3.171451e-01</td>\n",
              "      <td>-3.269839e-01</td>\n",
              "      <td>-7.083953e-02</td>\n",
              "      <td>-5.295979e-02</td>\n",
              "      <td>5.600000</td>\n",
              "      <td>0.000000</td>\n",
              "    </tr>\n",
              "    <tr>\n",
              "      <th>50%</th>\n",
              "      <td>84692.000000</td>\n",
              "      <td>1.810880e-02</td>\n",
              "      <td>6.548556e-02</td>\n",
              "      <td>1.798463e-01</td>\n",
              "      <td>-1.984653e-02</td>\n",
              "      <td>-5.433583e-02</td>\n",
              "      <td>-2.741871e-01</td>\n",
              "      <td>4.010308e-02</td>\n",
              "      <td>2.235804e-02</td>\n",
              "      <td>-5.142873e-02</td>\n",
              "      <td>-9.291738e-02</td>\n",
              "      <td>-3.275735e-02</td>\n",
              "      <td>1.400326e-01</td>\n",
              "      <td>-1.356806e-02</td>\n",
              "      <td>5.060132e-02</td>\n",
              "      <td>4.807155e-02</td>\n",
              "      <td>6.641332e-02</td>\n",
              "      <td>-6.567575e-02</td>\n",
              "      <td>-3.636312e-03</td>\n",
              "      <td>3.734823e-03</td>\n",
              "      <td>-6.248109e-02</td>\n",
              "      <td>-2.945017e-02</td>\n",
              "      <td>6.781943e-03</td>\n",
              "      <td>-1.119293e-02</td>\n",
              "      <td>4.097606e-02</td>\n",
              "      <td>1.659350e-02</td>\n",
              "      <td>-5.213911e-02</td>\n",
              "      <td>1.342146e-03</td>\n",
              "      <td>1.124383e-02</td>\n",
              "      <td>22.000000</td>\n",
              "      <td>0.000000</td>\n",
              "    </tr>\n",
              "    <tr>\n",
              "      <th>75%</th>\n",
              "      <td>139320.500000</td>\n",
              "      <td>1.315642e+00</td>\n",
              "      <td>8.037239e-01</td>\n",
              "      <td>1.027196e+00</td>\n",
              "      <td>7.433413e-01</td>\n",
              "      <td>6.119264e-01</td>\n",
              "      <td>3.985649e-01</td>\n",
              "      <td>5.704361e-01</td>\n",
              "      <td>3.273459e-01</td>\n",
              "      <td>5.971390e-01</td>\n",
              "      <td>4.539234e-01</td>\n",
              "      <td>7.395934e-01</td>\n",
              "      <td>6.182380e-01</td>\n",
              "      <td>6.625050e-01</td>\n",
              "      <td>4.931498e-01</td>\n",
              "      <td>6.488208e-01</td>\n",
              "      <td>5.232963e-01</td>\n",
              "      <td>3.996750e-01</td>\n",
              "      <td>5.008067e-01</td>\n",
              "      <td>4.589494e-01</td>\n",
              "      <td>1.330408e-01</td>\n",
              "      <td>1.863772e-01</td>\n",
              "      <td>5.285536e-01</td>\n",
              "      <td>1.476421e-01</td>\n",
              "      <td>4.395266e-01</td>\n",
              "      <td>3.507156e-01</td>\n",
              "      <td>2.409522e-01</td>\n",
              "      <td>9.104512e-02</td>\n",
              "      <td>7.827995e-02</td>\n",
              "      <td>77.165000</td>\n",
              "      <td>0.000000</td>\n",
              "    </tr>\n",
              "    <tr>\n",
              "      <th>max</th>\n",
              "      <td>172792.000000</td>\n",
              "      <td>2.454930e+00</td>\n",
              "      <td>2.205773e+01</td>\n",
              "      <td>9.382558e+00</td>\n",
              "      <td>1.687534e+01</td>\n",
              "      <td>3.480167e+01</td>\n",
              "      <td>7.330163e+01</td>\n",
              "      <td>1.205895e+02</td>\n",
              "      <td>2.000721e+01</td>\n",
              "      <td>1.559499e+01</td>\n",
              "      <td>2.374514e+01</td>\n",
              "      <td>1.201891e+01</td>\n",
              "      <td>7.848392e+00</td>\n",
              "      <td>7.126883e+00</td>\n",
              "      <td>1.052677e+01</td>\n",
              "      <td>8.877742e+00</td>\n",
              "      <td>1.731511e+01</td>\n",
              "      <td>9.253526e+00</td>\n",
              "      <td>5.041069e+00</td>\n",
              "      <td>5.591971e+00</td>\n",
              "      <td>3.942090e+01</td>\n",
              "      <td>2.720284e+01</td>\n",
              "      <td>1.050309e+01</td>\n",
              "      <td>2.252841e+01</td>\n",
              "      <td>4.584549e+00</td>\n",
              "      <td>7.519589e+00</td>\n",
              "      <td>3.517346e+00</td>\n",
              "      <td>3.161220e+01</td>\n",
              "      <td>3.384781e+01</td>\n",
              "      <td>25691.160000</td>\n",
              "      <td>1.000000</td>\n",
              "    </tr>\n",
              "  </tbody>\n",
              "</table>\n",
              "</div>"
            ],
            "text/plain": [
              "                Time            V1  ...         Amount          Class\n",
              "count  284807.000000  2.848070e+05  ...  284807.000000  284807.000000\n",
              "mean    94813.859575  1.199663e-15  ...      88.349619       0.001727\n",
              "std     47488.145955  1.958696e+00  ...     250.120109       0.041527\n",
              "min         0.000000 -5.640751e+01  ...       0.000000       0.000000\n",
              "25%     54201.500000 -9.203734e-01  ...       5.600000       0.000000\n",
              "50%     84692.000000  1.810880e-02  ...      22.000000       0.000000\n",
              "75%    139320.500000  1.315642e+00  ...      77.165000       0.000000\n",
              "max    172792.000000  2.454930e+00  ...   25691.160000       1.000000\n",
              "\n",
              "[8 rows x 31 columns]"
            ]
          },
          "metadata": {
            "tags": []
          },
          "execution_count": 64
        }
      ]
    },
    {
      "cell_type": "markdown",
      "metadata": {
        "id": "5gKHvFJeSj11",
        "colab_type": "text"
      },
      "source": [
        "Let's have a look if there are any Null values:"
      ]
    },
    {
      "cell_type": "code",
      "metadata": {
        "id": "cnlgBaVeSrQj",
        "colab_type": "code",
        "colab": {
          "base_uri": "https://localhost:8080/",
          "height": 34
        },
        "outputId": "25034acd-e876-4213-fe41-e3ab3d7dec18"
      },
      "source": [
        "df.isnull().sum().max()"
      ],
      "execution_count": 65,
      "outputs": [
        {
          "output_type": "execute_result",
          "data": {
            "text/plain": [
              "0"
            ]
          },
          "metadata": {
            "tags": []
          },
          "execution_count": 65
        }
      ]
    },
    {
      "cell_type": "markdown",
      "metadata": {
        "id": "OaUgs8-LSvYH",
        "colab_type": "text"
      },
      "source": [
        "Perfect, no Null values!"
      ]
    },
    {
      "cell_type": "markdown",
      "metadata": {
        "id": "3NAuJcdjhnMs",
        "colab_type": "text"
      },
      "source": [
        "## Let's Visualize the data"
      ]
    },
    {
      "cell_type": "code",
      "metadata": {
        "id": "BvLNg-9BIA2U",
        "colab_type": "code",
        "colab": {
          "base_uri": "https://localhost:8080/",
          "height": 528
        },
        "outputId": "b9ad10c1-c296-4acd-ea5b-0f9b1e2b89f8"
      },
      "source": [
        "ax = frauds.plot.scatter(x='Amount', y='Class', color='Orange', label='Fraud')\n",
        "non_frauds.plot.scatter(x='Amount', y='Class', color='Blue', label='No Fraud', ax=ax)\n",
        "plt.show()"
      ],
      "execution_count": 66,
      "outputs": [
        {
          "output_type": "display_data",
          "data": {
            "image/png": "[encoded data removed]",
            "text/plain": [
              "<Figure size 1008x576 with 1 Axes>"
            ]
          },
          "metadata": {
            "tags": []
          }
        }
      ]
    },
    {
      "cell_type": "markdown",
      "metadata": {
        "id": "nXIwNEpcjQ5G",
        "colab_type": "text"
      },
      "source": [
        "### Let's also Visualize with Seaborn"
      ]
    },
    {
      "cell_type": "code",
      "metadata": {
        "id": "zO4rmcz8jPh2",
        "colab_type": "code",
        "colab": {
          "base_uri": "https://localhost:8080/",
          "height": 572
        },
        "outputId": "2910f480-2f08-43bd-e46e-e80d0f6ed029"
      },
      "source": [
        "colors = ['Blue', 'Orange']\n",
        "\n",
        "sns.countplot('Class', data=df, palette=colors)\n",
        "plt.title('Class Distributions \\n (0: No Fraud || 1: Fraud)', fontsize=14)"
      ],
      "execution_count": 67,
      "outputs": [
        {
          "output_type": "execute_result",
          "data": {
            "text/plain": [
              "Text(0.5, 1.0, 'Class Distributions \\n (0: No Fraud || 1: Fraud)')"
            ]
          },
          "metadata": {
            "tags": []
          },
          "execution_count": 67
        },
        {
          "output_type": "display_data",
          "data": {
            "image/png": "[encoded data removed]",
            "text/plain": [
              "<Figure size 1008x576 with 1 Axes>"
            ]
          },
          "metadata": {
            "tags": []
          }
        }
      ]
    },
    {
      "cell_type": "markdown",
      "metadata": {
        "id": "x4gZDVecYn9y",
        "colab_type": "text"
      },
      "source": [
        "Yup... Definitely skewed.\n",
        "\n",
        "Let's have a look at the distributions:"
      ]
    },
    {
      "cell_type": "code",
      "metadata": {
        "id": "qDUsRTjJY9Yk",
        "colab_type": "code",
        "colab": {
          "base_uri": "https://localhost:8080/",
          "height": 305
        },
        "outputId": "ce80f8ce-8393-493b-d432-d222d3f9a7ae"
      },
      "source": [
        "fig, ax = plt.subplots(1, 2, figsize=(18,4))\n",
        "\n",
        "amount_val = df['Amount'].values\n",
        "time_val = df['Time'].values\n",
        "\n",
        "sns.distplot(amount_val, ax=ax[0], color='r')\n",
        "ax[0].set_title('Distribution of Transaction Amount', fontsize=14)\n",
        "ax[0].set_xlim([min(amount_val), max(amount_val)])\n",
        "\n",
        "sns.distplot(time_val, ax=ax[1], color='b')\n",
        "ax[1].set_title('Distribution of Transaction Time', fontsize=14)\n",
        "ax[1].set_xlim([min(time_val), max(time_val)])\n",
        "\n",
        "plt.show()"
      ],
      "execution_count": 68,
      "outputs": [
        {
          "output_type": "display_data",
          "data": {
            "image/png": "[encoded data removed]",
            "text/plain": [
              "<Figure size 1296x288 with 2 Axes>"
            ]
          },
          "metadata": {
            "tags": []
          }
        }
      ]
    },
    {
      "cell_type": "markdown",
      "metadata": {
        "id": "Ya1KKgo_7nSW",
        "colab_type": "text"
      },
      "source": [
        "# Scaling and Distribution\n",
        "\n",
        "**Scaling**: We will be scaling the columns **Time** and **Amount**.\n",
        "\n",
        "**Distributing**: We will create a subsample of the dataframe in order to have an equal amount of Fraud and Non-Fraud cases. This will help our algorithm better understand patterns that determines whether a transaction is a fraud or not.\n",
        "\n",
        "The subsample will be a dataframe with a 50/50 ratio of fraud and non-fraud transactions. This is important to avoid overfitting and give us the correct correlations between the features.\n",
        "\n",
        "We need to randomly choose 492 cases from the non-fraud transactions and placed them in our new dataframe.\n",
        "\n",
        "Most of our data is already scaled, so we only need to scale the **Time** and **Amount** features:"
      ]
    },
    {
      "cell_type": "code",
      "metadata": {
        "id": "JnbJkH9C7mbg",
        "colab_type": "code",
        "colab": {}
      },
      "source": [
        "from sklearn.preprocessing import StandardScaler, RobustScaler\n",
        "\n",
        "# RobustScaler is less prone to outliers.\n",
        "\n",
        "std_scaler = StandardScaler()\n",
        "rob_scaler = RobustScaler()\n",
        "\n",
        "df['scaled_amount'] = rob_scaler.fit_transform(df['Amount'].values.reshape(-1,1))\n",
        "df['scaled_time'] = rob_scaler.fit_transform(df['Time'].values.reshape(-1,1))\n",
        "\n",
        "df.drop(['Time','Amount'], axis=1, inplace=True) # removing non-scaled time and\n",
        "# amount from the dataframe"
      ],
      "execution_count": 0,
      "outputs": []
    },
    {
      "cell_type": "code",
      "metadata": {
        "id": "w6uRgMoaAKyO",
        "colab_type": "code",
        "colab": {
          "base_uri": "https://localhost:8080/",
          "height": 224
        },
        "outputId": "d82416bb-3a0f-4555-8e3b-7c31f047f2c7"
      },
      "source": [
        "scaled_amount = df['scaled_amount']\n",
        "scaled_time = df['scaled_time']\n",
        "\n",
        "df.drop(['scaled_amount', 'scaled_time'], axis=1, inplace=True) # remove from end\n",
        "df.insert(0, 'scaled_amount', scaled_amount) # place scaled amount at column 1\n",
        "df.insert(1, 'scaled_time', scaled_time) # place scaled time at column 2\n",
        "\n",
        "# Amount and Time are now scaled!\n",
        "\n",
        "df.head()"
      ],
      "execution_count": 70,
      "outputs": [
        {
          "output_type": "execute_result",
          "data": {
            "text/html": [
              "<div>\n",
              "<style scoped>\n",
              "    .dataframe tbody tr th:only-of-type {\n",
              "        vertical-align: middle;\n",
              "    }\n",
              "\n",
              "    .dataframe tbody tr th {\n",
              "        vertical-align: top;\n",
              "    }\n",
              "\n",
              "    .dataframe thead th {\n",
              "        text-align: right;\n",
              "    }\n",
              "</style>\n",
              "<table border=\"1\" class=\"dataframe\">\n",
              "  <thead>\n",
              "    <tr style=\"text-align: right;\">\n",
              "      <th></th>\n",
              "      <th>scaled_amount</th>\n",
              "      <th>scaled_time</th>\n",
              "      <th>V1</th>\n",
              "      <th>V2</th>\n",
              "      <th>V3</th>\n",
              "      <th>V4</th>\n",
              "      <th>V5</th>\n",
              "      <th>V6</th>\n",
              "      <th>V7</th>\n",
              "      <th>V8</th>\n",
              "      <th>V9</th>\n",
              "      <th>V10</th>\n",
              "      <th>V11</th>\n",
              "      <th>V12</th>\n",
              "      <th>V13</th>\n",
              "      <th>V14</th>\n",
              "      <th>V15</th>\n",
              "      <th>V16</th>\n",
              "      <th>V17</th>\n",
              "      <th>V18</th>\n",
              "      <th>V19</th>\n",
              "      <th>V20</th>\n",
              "      <th>V21</th>\n",
              "      <th>V22</th>\n",
              "      <th>V23</th>\n",
              "      <th>V24</th>\n",
              "      <th>V25</th>\n",
              "      <th>V26</th>\n",
              "      <th>V27</th>\n",
              "      <th>V28</th>\n",
              "      <th>Class</th>\n",
              "    </tr>\n",
              "  </thead>\n",
              "  <tbody>\n",
              "    <tr>\n",
              "      <th>0</th>\n",
              "      <td>-0.022637</td>\n",
              "      <td>-0.553449</td>\n",
              "      <td>-1.314256</td>\n",
              "      <td>1.232848</td>\n",
              "      <td>0.439415</td>\n",
              "      <td>-0.153291</td>\n",
              "      <td>0.131422</td>\n",
              "      <td>-0.420521</td>\n",
              "      <td>0.449248</td>\n",
              "      <td>0.488157</td>\n",
              "      <td>-0.663966</td>\n",
              "      <td>0.098641</td>\n",
              "      <td>1.259243</td>\n",
              "      <td>0.714258</td>\n",
              "      <td>-0.297936</td>\n",
              "      <td>0.775517</td>\n",
              "      <td>0.094951</td>\n",
              "      <td>-0.111714</td>\n",
              "      <td>-0.109018</td>\n",
              "      <td>-0.210667</td>\n",
              "      <td>-0.067357</td>\n",
              "      <td>-0.009202</td>\n",
              "      <td>0.102941</td>\n",
              "      <td>0.379334</td>\n",
              "      <td>0.090216</td>\n",
              "      <td>0.048226</td>\n",
              "      <td>-0.274115</td>\n",
              "      <td>0.285247</td>\n",
              "      <td>0.220490</td>\n",
              "      <td>0.193462</td>\n",
              "      <td>0</td>\n",
              "    </tr>\n",
              "    <tr>\n",
              "      <th>1</th>\n",
              "      <td>0.181653</td>\n",
              "      <td>0.983529</td>\n",
              "      <td>2.076798</td>\n",
              "      <td>-1.015359</td>\n",
              "      <td>-0.658085</td>\n",
              "      <td>-0.851485</td>\n",
              "      <td>-1.042400</td>\n",
              "      <td>-0.663592</td>\n",
              "      <td>-0.852071</td>\n",
              "      <td>-0.057982</td>\n",
              "      <td>-0.271030</td>\n",
              "      <td>0.911709</td>\n",
              "      <td>0.994188</td>\n",
              "      <td>0.131339</td>\n",
              "      <td>-0.215017</td>\n",
              "      <td>-0.081123</td>\n",
              "      <td>-0.603749</td>\n",
              "      <td>1.128603</td>\n",
              "      <td>0.068181</td>\n",
              "      <td>-0.981549</td>\n",
              "      <td>0.754528</td>\n",
              "      <td>-0.009859</td>\n",
              "      <td>0.275879</td>\n",
              "      <td>0.772911</td>\n",
              "      <td>0.162928</td>\n",
              "      <td>0.035481</td>\n",
              "      <td>-0.215053</td>\n",
              "      <td>-0.200438</td>\n",
              "      <td>-0.010667</td>\n",
              "      <td>-0.058151</td>\n",
              "      <td>0</td>\n",
              "    </tr>\n",
              "    <tr>\n",
              "      <th>2</th>\n",
              "      <td>0.251520</td>\n",
              "      <td>-0.234213</td>\n",
              "      <td>1.424885</td>\n",
              "      <td>-0.951433</td>\n",
              "      <td>-0.027739</td>\n",
              "      <td>-1.576531</td>\n",
              "      <td>-0.853384</td>\n",
              "      <td>-0.252323</td>\n",
              "      <td>-0.686621</td>\n",
              "      <td>-0.066581</td>\n",
              "      <td>-2.426221</td>\n",
              "      <td>1.543034</td>\n",
              "      <td>1.322111</td>\n",
              "      <td>0.062635</td>\n",
              "      <td>0.750244</td>\n",
              "      <td>0.044659</td>\n",
              "      <td>-0.099349</td>\n",
              "      <td>-0.582613</td>\n",
              "      <td>0.507913</td>\n",
              "      <td>-0.462617</td>\n",
              "      <td>0.078964</td>\n",
              "      <td>-0.271224</td>\n",
              "      <td>-0.489787</td>\n",
              "      <td>-1.125113</td>\n",
              "      <td>0.161595</td>\n",
              "      <td>-0.359214</td>\n",
              "      <td>0.176482</td>\n",
              "      <td>-0.503196</td>\n",
              "      <td>0.019469</td>\n",
              "      <td>0.007971</td>\n",
              "      <td>0</td>\n",
              "    </tr>\n",
              "    <tr>\n",
              "      <th>3</th>\n",
              "      <td>0.181513</td>\n",
              "      <td>0.759795</td>\n",
              "      <td>-1.420164</td>\n",
              "      <td>1.238254</td>\n",
              "      <td>1.584688</td>\n",
              "      <td>-0.664644</td>\n",
              "      <td>0.208996</td>\n",
              "      <td>0.076848</td>\n",
              "      <td>0.526081</td>\n",
              "      <td>0.065171</td>\n",
              "      <td>0.461025</td>\n",
              "      <td>-0.137773</td>\n",
              "      <td>-0.726298</td>\n",
              "      <td>0.686780</td>\n",
              "      <td>1.404897</td>\n",
              "      <td>-0.618266</td>\n",
              "      <td>0.648682</td>\n",
              "      <td>-0.089863</td>\n",
              "      <td>-0.534221</td>\n",
              "      <td>-0.124802</td>\n",
              "      <td>0.411794</td>\n",
              "      <td>0.390059</td>\n",
              "      <td>-0.302569</td>\n",
              "      <td>-0.499704</td>\n",
              "      <td>-0.285421</td>\n",
              "      <td>0.663990</td>\n",
              "      <td>0.530841</td>\n",
              "      <td>-0.432112</td>\n",
              "      <td>0.450343</td>\n",
              "      <td>0.267157</td>\n",
              "      <td>0</td>\n",
              "    </tr>\n",
              "    <tr>\n",
              "      <th>4</th>\n",
              "      <td>6.654091</td>\n",
              "      <td>0.491782</td>\n",
              "      <td>-0.866200</td>\n",
              "      <td>-0.558334</td>\n",
              "      <td>-0.449235</td>\n",
              "      <td>0.698437</td>\n",
              "      <td>-1.382256</td>\n",
              "      <td>1.418042</td>\n",
              "      <td>1.014842</td>\n",
              "      <td>0.693183</td>\n",
              "      <td>0.621554</td>\n",
              "      <td>-1.585489</td>\n",
              "      <td>-1.951601</td>\n",
              "      <td>-0.941032</td>\n",
              "      <td>-0.555787</td>\n",
              "      <td>-1.253962</td>\n",
              "      <td>0.658227</td>\n",
              "      <td>1.642195</td>\n",
              "      <td>-0.163236</td>\n",
              "      <td>1.857989</td>\n",
              "      <td>-1.175765</td>\n",
              "      <td>0.753196</td>\n",
              "      <td>0.576960</td>\n",
              "      <td>0.766940</td>\n",
              "      <td>1.222882</td>\n",
              "      <td>-0.306378</td>\n",
              "      <td>-0.783832</td>\n",
              "      <td>-0.748283</td>\n",
              "      <td>-0.051507</td>\n",
              "      <td>0.134554</td>\n",
              "      <td>0</td>\n",
              "    </tr>\n",
              "  </tbody>\n",
              "</table>\n",
              "</div>"
            ],
            "text/plain": [
              "   scaled_amount  scaled_time        V1  ...       V27       V28  Class\n",
              "0      -0.022637    -0.553449 -1.314256  ...  0.220490  0.193462      0\n",
              "1       0.181653     0.983529  2.076798  ... -0.010667 -0.058151      0\n",
              "2       0.251520    -0.234213  1.424885  ...  0.019469  0.007971      0\n",
              "3       0.181513     0.759795 -1.420164  ...  0.450343  0.267157      0\n",
              "4       6.654091     0.491782 -0.866200  ... -0.051507  0.134554      0\n",
              "\n",
              "[5 rows x 31 columns]"
            ]
          },
          "metadata": {
            "tags": []
          },
          "execution_count": 70
        }
      ]
    },
    {
      "cell_type": "markdown",
      "metadata": {
        "id": "wyI70NtMCaAm",
        "colab_type": "text"
      },
      "source": [
        "## Splitting the Data\n",
        "\n",
        "Before we do **Random Undersampling**, we have to create our testing set from the original dataframe so that we can test our model created from the undersampled dataframe on the original dataframe's test set."
      ]
    },
    {
      "cell_type": "code",
      "metadata": {
        "id": "EsBq5aHgD1a6",
        "colab_type": "code",
        "colab": {
          "base_uri": "https://localhost:8080/",
          "height": 241
        },
        "outputId": "1392fee5-837a-4ee9-96d6-fdac84abb649"
      },
      "source": [
        "print('No Frauds', round(df['Class'].value_counts()[0]/len(df)*100, 2), '% of the dataset')\n",
        "print('Frauds', round(df['Class'].value_counts()[1]/len(df)*100, 2), '% of the dataset')\n",
        "\n",
        "X = df.drop('Class', axis=1)\n",
        "y = df['Class']\n",
        "\n",
        "skf = StratifiedKFold(n_splits=5, random_state=None, shuffle=False)\n",
        "\n",
        "for train_index, test_index in skf.split(X, y):\n",
        "  print(\"Train:\", train_index, \"Test:\", test_index)\n",
        "  original_X_train, original_X_test = X.iloc[train_index], X.iloc[test_index]\n",
        "  original_y_train, original_y_test = y.iloc[train_index], y.iloc[test_index]\n",
        "\n",
        "# Turn into an array\n",
        "original_X_train = original_X_train.values\n",
        "original_X_test = original_X_test.values\n",
        "original_y_train = original_y_train.values\n",
        "original_y_test = original_y_test.values\n",
        "\n",
        "# See if both the train and test label distribution are similarly distributed\n",
        "train_unique_label, train_counts_label = np.unique(original_y_train, return_counts=True)\n",
        "test_unique_label, test_counts_label = np.unique(original_y_test, return_counts=True)\n",
        "print('-' * 100)\n",
        "\n",
        "print('Label Distributions: \\n')\n",
        "print(train_counts_label/ len(original_y_train))\n",
        "print(test_counts_label/ len(original_y_test))"
      ],
      "execution_count": 72,
      "outputs": [
        {
          "output_type": "stream",
          "text": [
            "No Frauds 99.83 % of the dataset\n",
            "Frauds 0.17 % of the dataset\n",
            "Train: [ 56957  56958  56959 ... 284804 284805 284806] Test: [    0     1     2 ... 58804 59204 59382]\n",
            "Train: [     0      1      2 ... 284804 284805 284806] Test: [ 56957  56958  56959 ... 113929 113930 113931]\n",
            "Train: [     0      1      2 ... 284804 284805 284806] Test: [110544 111144 111807 ... 170907 170908 170909]\n",
            "Train: [     0      1      2 ... 284804 284805 284806] Test: [161241 161265 161436 ... 227855 227856 227857]\n",
            "Train: [     0      1      2 ... 227855 227856 227857] Test: [222200 222432 222639 ... 284804 284805 284806]\n",
            "----------------------------------------------------------------------------------------------------\n",
            "Label Distributions: \n",
            "\n",
            "[0.99827076 0.00172924]\n",
            "[0.99827952 0.00172048]\n"
          ],
          "name": "stdout"
        }
      ]
    },
    {
      "cell_type": "markdown",
      "metadata": {
        "id": "MrpCIuM_Gldk",
        "colab_type": "text"
      },
      "source": [
        "# Random Undersample and Oversampling\n",
        "\n",
        "Let's balance our dataset by using random undersampling!\n",
        "\n",
        "Steps:\n",
        "\n",
        "1. Determine how imbalanced our class is. **value_count()** applied to **Class** works well for this. In our case, this is 492.\n",
        "2. Bring the number of non-fraud transactions to the same as fraud transactions.\n",
        "3. *Shuffle the data** to see if our model can maintain a certain accuracy everytime we run our script.\n",
        "\n",
        "Obviously, there is an issue with this method: because we are removing so many transactions, our dataset decreases in size significantly and there is information loss.\n",
        "\n",
        "Let's shuffle the data before creating subsamples:"
      ]
    },
    {
      "cell_type": "code",
      "metadata": {
        "id": "qg1SXdjdIFkd",
        "colab_type": "code",
        "colab": {
          "base_uri": "https://localhost:8080/",
          "height": 224
        },
        "outputId": "6ff67248-9251-412d-f84d-3b30fbd7094b"
      },
      "source": [
        "df = df.sample(frac=1)\n",
        "\n",
        "# amount of fraud classes\n",
        "fraud_df = df.loc[df['Class'] == 1]\n",
        "non_fraud_df = df.loc[df['Class'] == 0][:492]\n",
        "\n",
        "normal_distributed_df = pd.concat([fraud_df, non_fraud_df])\n",
        "\n",
        "# Shuffle dataframe rows\n",
        "new_df = normal_distributed_df.sample(frac=1, random_state=42)\n",
        "\n",
        "new_df.head()"
      ],
      "execution_count": 74,
      "outputs": [
        {
          "output_type": "execute_result",
          "data": {
            "text/html": [
              "<div>\n",
              "<style scoped>\n",
              "    .dataframe tbody tr th:only-of-type {\n",
              "        vertical-align: middle;\n",
              "    }\n",
              "\n",
              "    .dataframe tbody tr th {\n",
              "        vertical-align: top;\n",
              "    }\n",
              "\n",
              "    .dataframe thead th {\n",
              "        text-align: right;\n",
              "    }\n",
              "</style>\n",
              "<table border=\"1\" class=\"dataframe\">\n",
              "  <thead>\n",
              "    <tr style=\"text-align: right;\">\n",
              "      <th></th>\n",
              "      <th>scaled_amount</th>\n",
              "      <th>scaled_time</th>\n",
              "      <th>V1</th>\n",
              "      <th>V2</th>\n",
              "      <th>V3</th>\n",
              "      <th>V4</th>\n",
              "      <th>V5</th>\n",
              "      <th>V6</th>\n",
              "      <th>V7</th>\n",
              "      <th>V8</th>\n",
              "      <th>V9</th>\n",
              "      <th>V10</th>\n",
              "      <th>V11</th>\n",
              "      <th>V12</th>\n",
              "      <th>V13</th>\n",
              "      <th>V14</th>\n",
              "      <th>V15</th>\n",
              "      <th>V16</th>\n",
              "      <th>V17</th>\n",
              "      <th>V18</th>\n",
              "      <th>V19</th>\n",
              "      <th>V20</th>\n",
              "      <th>V21</th>\n",
              "      <th>V22</th>\n",
              "      <th>V23</th>\n",
              "      <th>V24</th>\n",
              "      <th>V25</th>\n",
              "      <th>V26</th>\n",
              "      <th>V27</th>\n",
              "      <th>V28</th>\n",
              "      <th>Class</th>\n",
              "    </tr>\n",
              "  </thead>\n",
              "  <tbody>\n",
              "    <tr>\n",
              "      <th>171271</th>\n",
              "      <td>0.024314</td>\n",
              "      <td>-0.412834</td>\n",
              "      <td>-0.865373</td>\n",
              "      <td>0.441461</td>\n",
              "      <td>0.673341</td>\n",
              "      <td>-0.132549</td>\n",
              "      <td>0.304138</td>\n",
              "      <td>1.785767</td>\n",
              "      <td>-0.466555</td>\n",
              "      <td>0.980213</td>\n",
              "      <td>-1.998480</td>\n",
              "      <td>0.462631</td>\n",
              "      <td>1.413957</td>\n",
              "      <td>0.569450</td>\n",
              "      <td>0.124046</td>\n",
              "      <td>0.778898</td>\n",
              "      <td>1.310600</td>\n",
              "      <td>-2.663201</td>\n",
              "      <td>1.052762</td>\n",
              "      <td>0.302464</td>\n",
              "      <td>-1.542199</td>\n",
              "      <td>-0.656295</td>\n",
              "      <td>0.112409</td>\n",
              "      <td>0.782729</td>\n",
              "      <td>-0.043061</td>\n",
              "      <td>-1.353950</td>\n",
              "      <td>-0.592301</td>\n",
              "      <td>-0.103126</td>\n",
              "      <td>0.027998</td>\n",
              "      <td>0.048356</td>\n",
              "      <td>0</td>\n",
              "    </tr>\n",
              "    <tr>\n",
              "      <th>137244</th>\n",
              "      <td>1.017537</td>\n",
              "      <td>0.724304</td>\n",
              "      <td>-0.099724</td>\n",
              "      <td>2.795414</td>\n",
              "      <td>-6.423856</td>\n",
              "      <td>3.247513</td>\n",
              "      <td>-1.632290</td>\n",
              "      <td>-2.766665</td>\n",
              "      <td>-2.312223</td>\n",
              "      <td>0.961014</td>\n",
              "      <td>-1.896001</td>\n",
              "      <td>-4.919348</td>\n",
              "      <td>3.053654</td>\n",
              "      <td>-5.297811</td>\n",
              "      <td>-1.466030</td>\n",
              "      <td>-7.035880</td>\n",
              "      <td>1.997132</td>\n",
              "      <td>-3.836189</td>\n",
              "      <td>-2.515183</td>\n",
              "      <td>-0.864579</td>\n",
              "      <td>2.328927</td>\n",
              "      <td>0.340898</td>\n",
              "      <td>0.647714</td>\n",
              "      <td>0.126576</td>\n",
              "      <td>0.203953</td>\n",
              "      <td>0.008495</td>\n",
              "      <td>-0.174501</td>\n",
              "      <td>0.575295</td>\n",
              "      <td>0.152876</td>\n",
              "      <td>-0.098173</td>\n",
              "      <td>1</td>\n",
              "    </tr>\n",
              "    <tr>\n",
              "      <th>241975</th>\n",
              "      <td>6.246070</td>\n",
              "      <td>-0.119116</td>\n",
              "      <td>0.324897</td>\n",
              "      <td>-2.157491</td>\n",
              "      <td>0.346625</td>\n",
              "      <td>-0.817056</td>\n",
              "      <td>-1.585764</td>\n",
              "      <td>0.147241</td>\n",
              "      <td>-0.193767</td>\n",
              "      <td>0.021439</td>\n",
              "      <td>1.990364</td>\n",
              "      <td>-1.419031</td>\n",
              "      <td>0.698527</td>\n",
              "      <td>2.178707</td>\n",
              "      <td>0.931205</td>\n",
              "      <td>-0.595879</td>\n",
              "      <td>-0.986895</td>\n",
              "      <td>-0.818828</td>\n",
              "      <td>0.064604</td>\n",
              "      <td>0.376425</td>\n",
              "      <td>1.431241</td>\n",
              "      <td>0.921822</td>\n",
              "      <td>0.318329</td>\n",
              "      <td>0.377795</td>\n",
              "      <td>-0.629004</td>\n",
              "      <td>0.169029</td>\n",
              "      <td>0.521644</td>\n",
              "      <td>0.120487</td>\n",
              "      <td>-0.026223</td>\n",
              "      <td>0.088612</td>\n",
              "      <td>0</td>\n",
              "    </tr>\n",
              "    <tr>\n",
              "      <th>38796</th>\n",
              "      <td>0.530986</td>\n",
              "      <td>-0.070102</td>\n",
              "      <td>-4.312479</td>\n",
              "      <td>1.886476</td>\n",
              "      <td>-2.338634</td>\n",
              "      <td>-0.475243</td>\n",
              "      <td>-1.185444</td>\n",
              "      <td>-2.112079</td>\n",
              "      <td>-2.122793</td>\n",
              "      <td>0.272565</td>\n",
              "      <td>0.290273</td>\n",
              "      <td>-3.833741</td>\n",
              "      <td>2.509781</td>\n",
              "      <td>-3.611231</td>\n",
              "      <td>-1.024300</td>\n",
              "      <td>-5.291925</td>\n",
              "      <td>1.649807</td>\n",
              "      <td>-3.262658</td>\n",
              "      <td>-4.333118</td>\n",
              "      <td>-1.863049</td>\n",
              "      <td>-0.009534</td>\n",
              "      <td>-0.718706</td>\n",
              "      <td>0.550541</td>\n",
              "      <td>-0.067870</td>\n",
              "      <td>-1.114692</td>\n",
              "      <td>0.269069</td>\n",
              "      <td>-0.020572</td>\n",
              "      <td>-0.963489</td>\n",
              "      <td>-0.918888</td>\n",
              "      <td>0.001454</td>\n",
              "      <td>1</td>\n",
              "    </tr>\n",
              "    <tr>\n",
              "      <th>207803</th>\n",
              "      <td>0.164326</td>\n",
              "      <td>0.116695</td>\n",
              "      <td>1.707857</td>\n",
              "      <td>0.024881</td>\n",
              "      <td>-0.488140</td>\n",
              "      <td>3.787548</td>\n",
              "      <td>1.139451</td>\n",
              "      <td>2.914673</td>\n",
              "      <td>-0.743358</td>\n",
              "      <td>0.699136</td>\n",
              "      <td>1.008471</td>\n",
              "      <td>0.912806</td>\n",
              "      <td>0.765354</td>\n",
              "      <td>-2.043868</td>\n",
              "      <td>1.001547</td>\n",
              "      <td>1.322887</td>\n",
              "      <td>-2.720077</td>\n",
              "      <td>-0.153430</td>\n",
              "      <td>0.752611</td>\n",
              "      <td>-0.755786</td>\n",
              "      <td>-1.912563</td>\n",
              "      <td>-0.368014</td>\n",
              "      <td>0.010865</td>\n",
              "      <td>0.548258</td>\n",
              "      <td>0.091218</td>\n",
              "      <td>-1.007959</td>\n",
              "      <td>-0.082183</td>\n",
              "      <td>0.179709</td>\n",
              "      <td>0.007738</td>\n",
              "      <td>-0.068841</td>\n",
              "      <td>1</td>\n",
              "    </tr>\n",
              "  </tbody>\n",
              "</table>\n",
              "</div>"
            ],
            "text/plain": [
              "        scaled_amount  scaled_time        V1  ...       V27       V28  Class\n",
              "171271       0.024314    -0.412834 -0.865373  ...  0.027998  0.048356      0\n",
              "137244       1.017537     0.724304 -0.099724  ...  0.152876 -0.098173      1\n",
              "241975       6.246070    -0.119116  0.324897  ... -0.026223  0.088612      0\n",
              "38796        0.530986    -0.070102 -4.312479  ... -0.918888  0.001454      1\n",
              "207803       0.164326     0.116695  1.707857  ...  0.007738 -0.068841      1\n",
              "\n",
              "[5 rows x 31 columns]"
            ]
          },
          "metadata": {
            "tags": []
          },
          "execution_count": 74
        }
      ]
    },
    {
      "cell_type": "markdown",
      "metadata": {
        "id": "D5BF_ZPWI7zs",
        "colab_type": "text"
      },
      "source": [
        "## Equally Distributing and Correlating:"
      ]
    },
    {
      "cell_type": "code",
      "metadata": {
        "id": "OFlxCrZKI9Br",
        "colab_type": "code",
        "colab": {}
      },
      "source": [
        "print('Distribution of the Classes in the subsample dataset')"
      ],
      "execution_count": 0,
      "outputs": []
    },
    {
      "cell_type": "markdown",
      "metadata": {
        "id": "qnevvExCI-Nw",
        "colab_type": "text"
      },
      "source": [
        ""
      ]
    },
    {
      "cell_type": "code",
      "metadata": {
        "id": "bVUZp1b1I_AD",
        "colab_type": "code",
        "colab": {}
      },
      "source": [
        ""
      ],
      "execution_count": 0,
      "outputs": []
    },
    {
      "cell_type": "markdown",
      "metadata": {
        "id": "d9GzBHgYJmLD",
        "colab_type": "text"
      },
      "source": [
        "## Performing Logistic Regression"
      ]
    },
    {
      "cell_type": "code",
      "metadata": {
        "id": "CJlLCUZpKvn1",
        "colab_type": "code",
        "colab": {}
      },
      "source": [
        "X = df.iloc[:, :-1].dropna() # iloc selects all rows based on the index\n",
        "y = df['Class'].dropna()\n",
        "\n",
        "X_train, X_test, y_train, y_test = train_test_split(X, y, test_size=0.35)"
      ],
      "execution_count": 0,
      "outputs": []
    },
    {
      "cell_type": "code",
      "metadata": {
        "id": "Sl715kYrLxlK",
        "colab_type": "code",
        "colab": {
          "base_uri": "https://localhost:8080/",
          "height": 88
        },
        "outputId": "9affcd0e-2e7b-4058-9ff1-dfbf61e87453"
      },
      "source": [
        "# C in LR is a penalty term meant to dissentivize and regularize LR to avoid overfitting.\n",
        "LR = linear_model.LogisticRegression(C=1e5)\n",
        "LR.fit(X_train, y_train)\n",
        "print('Score: ', LR.score(X_test, y_test))"
      ],
      "execution_count": 18,
      "outputs": [
        {
          "output_type": "stream",
          "text": [
            "/usr/local/lib/python3.6/dist-packages/sklearn/linear_model/logistic.py:432: FutureWarning: Default solver will be changed to 'lbfgs' in 0.22. Specify a solver to silence this warning.\n",
            "  FutureWarning)\n"
          ],
          "name": "stderr"
        },
        {
          "output_type": "stream",
          "text": [
            "Score:  0.9983709273182957\n"
          ],
          "name": "stdout"
        }
      ]
    },
    {
      "cell_type": "code",
      "metadata": {
        "id": "Kq44szleMBo9",
        "colab_type": "code",
        "colab": {
          "base_uri": "https://localhost:8080/",
          "height": 34
        },
        "outputId": "b31b6f84-86a1-4151-cd8c-a59696118306"
      },
      "source": [
        "y_predicted = np.array(LR.predict(X_test))\n",
        "print(y_predicted)"
      ],
      "execution_count": 19,
      "outputs": [
        {
          "output_type": "stream",
          "text": [
            "[0. 0. 0. ... 0. 0. 0.]\n"
          ],
          "name": "stdout"
        }
      ]
    },
    {
      "cell_type": "markdown",
      "metadata": {
        "id": "QRZGofE5iqTY",
        "colab_type": "text"
      },
      "source": [
        "# Building the Main Model"
      ]
    },
    {
      "cell_type": "markdown",
      "metadata": {
        "id": "Ftyvk6o_wNck",
        "colab_type": "text"
      },
      "source": [
        "Before we move forward, there are a few things we need to keep in mind when building our model:\n",
        "\n",
        "\n",
        "\n",
        "*   Never test your model on the oversampled or undersampled dataset.\n",
        "*   If we want to implement cross-validation, remember to oversample or undersample your training data **during** cross-validation, not before!\n",
        "*   We should not be using an **accuracy score** as a metric with imbalanced datasets. If we do, we will receive high accuracy because of the imbalance and it will mislead us into thinking that we have a good model. Instead, it is much better to use either the **F1-Score, Precision/Recall Score or a Confusion Matrix**.\n",
        "\n"
      ]
    },
    {
      "cell_type": "code",
      "metadata": {
        "id": "97aKZ5AGjIL3",
        "colab_type": "code",
        "colab": {}
      },
      "source": [
        ""
      ],
      "execution_count": 0,
      "outputs": []
    }
  ]
}